{
 "cells": [
  {
   "cell_type": "code",
   "execution_count": 1,
   "id": "152fab37-bacf-4150-ae11-443b9457b3a4",
   "metadata": {
    "execution": {
     "iopub.execute_input": "2023-11-24T07:42:02.259382Z",
     "iopub.status.busy": "2023-11-24T07:42:02.258996Z",
     "iopub.status.idle": "2023-11-24T07:42:02.847643Z",
     "shell.execute_reply": "2023-11-24T07:42:02.846763Z",
     "shell.execute_reply.started": "2023-11-24T07:42:02.259352Z"
    },
    "tags": []
   },
   "outputs": [],
   "source": [
    "import pandas as pd\n",
    "from sklearn.metrics.pairwise import sigmoid_kernel\n",
    "from sklearn.metrics.pairwise import cosine_similarity\n",
    "from sklearn import preprocessing"
   ]
  },
  {
   "cell_type": "code",
   "execution_count": 2,
   "id": "cae6457c-5492-4d10-a78a-bd38fe954921",
   "metadata": {
    "execution": {
     "iopub.execute_input": "2023-11-24T07:42:11.493859Z",
     "iopub.status.busy": "2023-11-24T07:42:11.493155Z",
     "iopub.status.idle": "2023-11-24T07:42:11.919664Z",
     "shell.execute_reply": "2023-11-24T07:42:11.918859Z",
     "shell.execute_reply.started": "2023-11-24T07:42:11.493817Z"
    },
    "tags": []
   },
   "outputs": [
    {
     "data": {
      "text/html": [
       "<div>\n",
       "<style scoped>\n",
       "    .dataframe tbody tr th:only-of-type {\n",
       "        vertical-align: middle;\n",
       "    }\n",
       "\n",
       "    .dataframe tbody tr th {\n",
       "        vertical-align: top;\n",
       "    }\n",
       "\n",
       "    .dataframe thead th {\n",
       "        text-align: right;\n",
       "    }\n",
       "</style>\n",
       "<table border=\"1\" class=\"dataframe\">\n",
       "  <thead>\n",
       "    <tr style=\"text-align: right;\">\n",
       "      <th></th>\n",
       "      <th>Unnamed: 0</th>\n",
       "      <th>acousticness</th>\n",
       "      <th>danceability</th>\n",
       "      <th>duration_ms</th>\n",
       "      <th>energy</th>\n",
       "      <th>instrumentalness</th>\n",
       "      <th>key</th>\n",
       "      <th>liveness</th>\n",
       "      <th>loudness</th>\n",
       "      <th>mode</th>\n",
       "      <th>speechiness</th>\n",
       "      <th>tempo</th>\n",
       "      <th>time_signature</th>\n",
       "      <th>valence</th>\n",
       "      <th>target</th>\n",
       "      <th>song_title</th>\n",
       "      <th>artist</th>\n",
       "    </tr>\n",
       "  </thead>\n",
       "  <tbody>\n",
       "    <tr>\n",
       "      <th>0</th>\n",
       "      <td>0</td>\n",
       "      <td>0.0102</td>\n",
       "      <td>0.833</td>\n",
       "      <td>204600</td>\n",
       "      <td>0.434</td>\n",
       "      <td>0.021900</td>\n",
       "      <td>2</td>\n",
       "      <td>0.1650</td>\n",
       "      <td>-8.795</td>\n",
       "      <td>1</td>\n",
       "      <td>0.4310</td>\n",
       "      <td>150.062</td>\n",
       "      <td>4.0</td>\n",
       "      <td>0.286</td>\n",
       "      <td>1</td>\n",
       "      <td>Mask Off</td>\n",
       "      <td>Future</td>\n",
       "    </tr>\n",
       "    <tr>\n",
       "      <th>1</th>\n",
       "      <td>1</td>\n",
       "      <td>0.1990</td>\n",
       "      <td>0.743</td>\n",
       "      <td>326933</td>\n",
       "      <td>0.359</td>\n",
       "      <td>0.006110</td>\n",
       "      <td>1</td>\n",
       "      <td>0.1370</td>\n",
       "      <td>-10.401</td>\n",
       "      <td>1</td>\n",
       "      <td>0.0794</td>\n",
       "      <td>160.083</td>\n",
       "      <td>4.0</td>\n",
       "      <td>0.588</td>\n",
       "      <td>1</td>\n",
       "      <td>Redbone</td>\n",
       "      <td>Childish Gambino</td>\n",
       "    </tr>\n",
       "    <tr>\n",
       "      <th>2</th>\n",
       "      <td>2</td>\n",
       "      <td>0.0344</td>\n",
       "      <td>0.838</td>\n",
       "      <td>185707</td>\n",
       "      <td>0.412</td>\n",
       "      <td>0.000234</td>\n",
       "      <td>2</td>\n",
       "      <td>0.1590</td>\n",
       "      <td>-7.148</td>\n",
       "      <td>1</td>\n",
       "      <td>0.2890</td>\n",
       "      <td>75.044</td>\n",
       "      <td>4.0</td>\n",
       "      <td>0.173</td>\n",
       "      <td>1</td>\n",
       "      <td>Xanny Family</td>\n",
       "      <td>Future</td>\n",
       "    </tr>\n",
       "    <tr>\n",
       "      <th>3</th>\n",
       "      <td>3</td>\n",
       "      <td>0.6040</td>\n",
       "      <td>0.494</td>\n",
       "      <td>199413</td>\n",
       "      <td>0.338</td>\n",
       "      <td>0.510000</td>\n",
       "      <td>5</td>\n",
       "      <td>0.0922</td>\n",
       "      <td>-15.236</td>\n",
       "      <td>1</td>\n",
       "      <td>0.0261</td>\n",
       "      <td>86.468</td>\n",
       "      <td>4.0</td>\n",
       "      <td>0.230</td>\n",
       "      <td>1</td>\n",
       "      <td>Master Of None</td>\n",
       "      <td>Beach House</td>\n",
       "    </tr>\n",
       "    <tr>\n",
       "      <th>4</th>\n",
       "      <td>4</td>\n",
       "      <td>0.1800</td>\n",
       "      <td>0.678</td>\n",
       "      <td>392893</td>\n",
       "      <td>0.561</td>\n",
       "      <td>0.512000</td>\n",
       "      <td>5</td>\n",
       "      <td>0.4390</td>\n",
       "      <td>-11.648</td>\n",
       "      <td>0</td>\n",
       "      <td>0.0694</td>\n",
       "      <td>174.004</td>\n",
       "      <td>4.0</td>\n",
       "      <td>0.904</td>\n",
       "      <td>1</td>\n",
       "      <td>Parallel Lines</td>\n",
       "      <td>Junior Boys</td>\n",
       "    </tr>\n",
       "  </tbody>\n",
       "</table>\n",
       "</div>"
      ],
      "text/plain": [
       "   Unnamed: 0  acousticness  danceability  duration_ms  energy  \\\n",
       "0           0        0.0102         0.833       204600   0.434   \n",
       "1           1        0.1990         0.743       326933   0.359   \n",
       "2           2        0.0344         0.838       185707   0.412   \n",
       "3           3        0.6040         0.494       199413   0.338   \n",
       "4           4        0.1800         0.678       392893   0.561   \n",
       "\n",
       "   instrumentalness  key  liveness  loudness  mode  speechiness    tempo  \\\n",
       "0          0.021900    2    0.1650    -8.795     1       0.4310  150.062   \n",
       "1          0.006110    1    0.1370   -10.401     1       0.0794  160.083   \n",
       "2          0.000234    2    0.1590    -7.148     1       0.2890   75.044   \n",
       "3          0.510000    5    0.0922   -15.236     1       0.0261   86.468   \n",
       "4          0.512000    5    0.4390   -11.648     0       0.0694  174.004   \n",
       "\n",
       "   time_signature  valence  target      song_title            artist  \n",
       "0             4.0    0.286       1        Mask Off            Future  \n",
       "1             4.0    0.588       1         Redbone  Childish Gambino  \n",
       "2             4.0    0.173       1    Xanny Family            Future  \n",
       "3             4.0    0.230       1  Master Of None       Beach House  \n",
       "4             4.0    0.904       1  Parallel Lines       Junior Boys  "
      ]
     },
     "execution_count": 2,
     "metadata": {},
     "output_type": "execute_result"
    }
   ],
   "source": [
    "url = \"https://raw.githubusercontent.com/pav-sahnyuk/datasets/main/Spotify%20Song%20Attributes.csv\"\n",
    "df=pd.read_csv(url)\n",
    "\n",
    "df.head()"
   ]
  },
  {
   "cell_type": "code",
   "execution_count": 3,
   "id": "db2bb053-0e14-496b-8f65-dad88fdd7242",
   "metadata": {
    "execution": {
     "iopub.execute_input": "2023-11-24T07:42:49.113201Z",
     "iopub.status.busy": "2023-11-24T07:42:49.112766Z",
     "iopub.status.idle": "2023-11-24T07:42:49.134902Z",
     "shell.execute_reply": "2023-11-24T07:42:49.133938Z",
     "shell.execute_reply.started": "2023-11-24T07:42:49.113163Z"
    },
    "tags": []
   },
   "outputs": [
    {
     "name": "stdout",
     "output_type": "stream",
     "text": [
      "<class 'pandas.core.frame.DataFrame'>\n",
      "RangeIndex: 2017 entries, 0 to 2016\n",
      "Data columns (total 17 columns):\n",
      " #   Column            Non-Null Count  Dtype  \n",
      "---  ------            --------------  -----  \n",
      " 0   Unnamed: 0        2017 non-null   int64  \n",
      " 1   acousticness      2017 non-null   float64\n",
      " 2   danceability      2017 non-null   float64\n",
      " 3   duration_ms       2017 non-null   int64  \n",
      " 4   energy            2017 non-null   float64\n",
      " 5   instrumentalness  2017 non-null   float64\n",
      " 6   key               2017 non-null   int64  \n",
      " 7   liveness          2017 non-null   float64\n",
      " 8   loudness          2017 non-null   float64\n",
      " 9   mode              2017 non-null   int64  \n",
      " 10  speechiness       2017 non-null   float64\n",
      " 11  tempo             2017 non-null   float64\n",
      " 12  time_signature    2017 non-null   float64\n",
      " 13  valence           2017 non-null   float64\n",
      " 14  target            2017 non-null   int64  \n",
      " 15  song_title        2017 non-null   object \n",
      " 16  artist            2017 non-null   object \n",
      "dtypes: float64(10), int64(5), object(2)\n",
      "memory usage: 268.0+ KB\n"
     ]
    }
   ],
   "source": [
    "df.info()"
   ]
  },
  {
   "cell_type": "code",
   "execution_count": 4,
   "id": "8c637fde-df7e-414d-8d3a-837b8321ba2c",
   "metadata": {
    "execution": {
     "iopub.execute_input": "2023-11-24T07:44:08.326831Z",
     "iopub.status.busy": "2023-11-24T07:44:08.326437Z",
     "iopub.status.idle": "2023-11-24T07:44:08.337964Z",
     "shell.execute_reply": "2023-11-24T07:44:08.337092Z",
     "shell.execute_reply.started": "2023-11-24T07:44:08.326802Z"
    },
    "tags": []
   },
   "outputs": [
    {
     "name": "stdout",
     "output_type": "stream",
     "text": [
      "[[0.01024843 0.82482599 0.19073524 0.4263629  0.02243852 0.18181818\n",
      "  0.15386234 0.74114059 1.         0.51444066 0.59603317 0.75\n",
      "  0.26243209]\n",
      " [0.19999772 0.72041763 0.3144808  0.35008137 0.00626025 0.09090909\n",
      "  0.12439486 0.69216224 1.         0.07100517 0.6544742  0.75\n",
      "  0.57793565]]\n"
     ]
    }
   ],
   "source": [
    "\n",
    "feature_cols=['acousticness', 'danceability', 'duration_ms', 'energy',\n",
    "              'instrumentalness', 'key', 'liveness', 'loudness', 'mode',\n",
    "              'speechiness', 'tempo', 'time_signature', 'valence',]\n",
    "\n",
    "from sklearn.preprocessing import MinMaxScaler\n",
    "scaler = MinMaxScaler()\n",
    "normalized_df =scaler.fit_transform(df[feature_cols])\n",
    "\n",
    "print(normalized_df[:2])"
   ]
  },
  {
   "cell_type": "code",
   "execution_count": 5,
   "id": "5be133d9-5132-4dd7-9226-8cee05663117",
   "metadata": {
    "execution": {
     "iopub.execute_input": "2023-11-24T07:44:19.788188Z",
     "iopub.status.busy": "2023-11-24T07:44:19.787801Z",
     "iopub.status.idle": "2023-11-24T07:44:19.835998Z",
     "shell.execute_reply": "2023-11-24T07:44:19.835295Z",
     "shell.execute_reply.started": "2023-11-24T07:44:19.788160Z"
    },
    "tags": []
   },
   "outputs": [],
   "source": [
    "# Create a pandas series with song titles as indices and indices as series values\n",
    "indices = pd.Series(df.index, index=df['song_title']).drop_duplicates()\n",
    "\n",
    "# Create cosine similarity matrix based on given matrix\n",
    "cosine = cosine_similarity(normalized_df)\n",
    "\n",
    "def generate_recommendation(song_title, model_type=cosine ):\n",
    "    \"\"\"\n",
    "    Purpose: Function for song recommendations\n",
    "    Inputs: song title and type of similarity model\n",
    "    Output: Pandas series of recommended songs\n",
    "    \"\"\"\n",
    "    # Get song indices\n",
    "    index=indices[song_title]\n",
    "    # Get list of songs for given songs\n",
    "    score=list(enumerate(model_type[indices['Parallel Lines']]))\n",
    "    # Sort the most similar songs\n",
    "    similarity_score = sorted(score,key = lambda x:x[1],reverse = True)\n",
    "    # Select the top-10 recommend songs\n",
    "    similarity_score = similarity_score[1:11]\n",
    "    top_songs_index = [i[0] for i in similarity_score]\n",
    "    # Top 10 recommende songs\n",
    "    top_songs=df['song_title'].iloc[top_songs_index]\n",
    "    return top_songs"
   ]
  },
  {
   "cell_type": "code",
   "execution_count": 6,
   "id": "a54e150e-6771-49ca-a6e2-aebd9aa0e371",
   "metadata": {
    "execution": {
     "iopub.execute_input": "2023-11-24T07:44:30.638265Z",
     "iopub.status.busy": "2023-11-24T07:44:30.637891Z",
     "iopub.status.idle": "2023-11-24T07:44:30.644755Z",
     "shell.execute_reply": "2023-11-24T07:44:30.643996Z",
     "shell.execute_reply.started": "2023-11-24T07:44:30.638239Z"
    },
    "tags": []
   },
   "outputs": [
    {
     "name": "stdout",
     "output_type": "stream",
     "text": [
      "Recommended Songs:\n",
      "['Inspector Norse' 'Stock Exchange'\n",
      " \"Let's Lovedance Tonight - Danny Krivit Re-edit - Dk Re-Edit\" '200 Press'\n",
      " 'Ferus Gallery' 'Boys' 'Abataka - Original Mix' 'It Looks Like Love'\n",
      " 'You & Me - Baauer Remix' 'Johnny Was']\n"
     ]
    }
   ],
   "source": [
    "\n",
    "print(\"Recommended Songs:\")\n",
    "print(generate_recommendation('Parallel Lines',cosine).values)"
   ]
  },
  {
   "cell_type": "code",
   "execution_count": 7,
   "id": "95ec01e7-d3fe-4a1f-a4f9-f1adcbd1a8b6",
   "metadata": {
    "execution": {
     "iopub.execute_input": "2023-11-24T07:44:45.326756Z",
     "iopub.status.busy": "2023-11-24T07:44:45.326389Z",
     "iopub.status.idle": "2023-11-24T07:44:45.459251Z",
     "shell.execute_reply": "2023-11-24T07:44:45.458393Z",
     "shell.execute_reply.started": "2023-11-24T07:44:45.326730Z"
    },
    "tags": []
   },
   "outputs": [
    {
     "name": "stdout",
     "output_type": "stream",
     "text": [
      "Recommended Songs:\n",
      "['Inspector Norse' 'Trap Shit V7' 'GodLovesUgly'\n",
      " 'Blueberry (Pills & Cocaine) (feat. Danny Brown)'\n",
      " 'Dreams Never End - 2015 Remastered Version' 'Nimble Girl' 'Lazuli'\n",
      " 'Fail to Cry' 'Au Seve' 'Giant']\n"
     ]
    }
   ],
   "source": [
    "# Create sigmoid kernel matrix based on given matrix\n",
    "sig_kernel = sigmoid_kernel(normalized_df)\n",
    "\n",
    "print(\"Recommended Songs:\")\n",
    "print(generate_recommendation('Parallel Lines',sig_kernel).values)"
   ]
  },
  {
   "cell_type": "code",
   "execution_count": null,
   "id": "70e3d884-d807-4d9f-8c70-d2c29eaeb92f",
   "metadata": {},
   "outputs": [],
   "source": []
  }
 ],
 "metadata": {
  "kernelspec": {
   "display_name": "saturn (Python 3)",
   "language": "python",
   "name": "python3"
  },
  "language_info": {
   "codemirror_mode": {
    "name": "ipython",
    "version": 3
   },
   "file_extension": ".py",
   "mimetype": "text/x-python",
   "name": "python",
   "nbconvert_exporter": "python",
   "pygments_lexer": "ipython3",
   "version": "3.9.15"
  }
 },
 "nbformat": 4,
 "nbformat_minor": 5
}
