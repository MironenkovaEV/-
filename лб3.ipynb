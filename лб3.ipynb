{
 "cells": [
  {
   "cell_type": "code",
   "execution_count": 1,
   "id": "77ef7caf-7e66-4e2b-bc89-7e8db09902a9",
   "metadata": {
    "execution": {
     "iopub.execute_input": "2023-11-24T07:45:52.359807Z",
     "iopub.status.busy": "2023-11-24T07:45:52.359417Z",
     "iopub.status.idle": "2023-11-24T07:45:58.183962Z",
     "shell.execute_reply": "2023-11-24T07:45:58.183169Z",
     "shell.execute_reply.started": "2023-11-24T07:45:52.359779Z"
    },
    "tags": []
   },
   "outputs": [
    {
     "name": "stdout",
     "output_type": "stream",
     "text": [
      "--2023-11-24 07:45:52--  https://s3-us-west-2.amazonaws.com/ray-tutorials/hackernews.zip\n",
      "Resolving s3-us-west-2.amazonaws.com (s3-us-west-2.amazonaws.com)... 52.92.248.40, 52.218.232.144, 52.92.160.152, ...\n",
      "Connecting to s3-us-west-2.amazonaws.com (s3-us-west-2.amazonaws.com)|52.92.248.40|:443... connected.\n",
      "HTTP request sent, awaiting response... 200 OK\n",
      "Length: 56402193 (54M) [application/zip]\n",
      "Saving to: ‘hackernews.zip’\n",
      "\n",
      "hackernews.zip      100%[===================>]  53.79M  26.5MB/s    in 2.0s    \n",
      "\n",
      "2023-11-24 07:45:55 (26.5 MB/s) - ‘hackernews.zip’ saved [56402193/56402193]\n",
      "\n",
      "Archive:  hackernews.zip\n",
      "  inflating: submission-1.json       \n",
      "  inflating: submission-2.json       \n",
      "  inflating: submission-3.json       \n",
      "  inflating: submission-4.json       \n",
      "{\"body\": {\"descendants\": 0, \"url\": \"http://markpincus.blogspot.com/2005/03/peopleweb-i-believe-we-are-close-to.html\", \"text\": \"\", \"title\": \"The PeopleWeb | Mark Pincus Blog (March 2005)\", \"by\": \"sayemm\", \"score\": 3, \"time\": 1286515576, \"type\": \"story\", \"id\": 1770734}, \"source\": \"firebase\", \"id\": 1770734, \"retrieved_at_ts\": 1436469924}\n",
      "{\"body\": {\"descendants\": 0, \"url\": \"http://omergertel.com/2010/11/16/honing-my-craft/\", \"text\": \"\", \"title\": \"Computer science and programming are two separate things\", \"by\": \"omergertel\", \"score\": 1, \"time\": 1289946709, \"type\": \"story\", \"id\": 1911996}, \"source\": \"firebase\", \"id\": 1911996, \"retrieved_at_ts\": 1436484897}\n"
     ]
    }
   ],
   "source": [
    "!wget -nc https://s3-us-west-2.amazonaws.com/ray-tutorials/hackernews.zip\n",
    "!unzip -o hackernews.zip\n",
    "!head -n 2 submission-1.json"
   ]
  },
  {
   "cell_type": "code",
   "execution_count": 3,
   "id": "adc837bf-6cb7-48a9-b4e9-27c3a779984a",
   "metadata": {
    "execution": {
     "iopub.execute_input": "2023-11-24T07:46:14.707433Z",
     "iopub.status.busy": "2023-11-24T07:46:14.707060Z",
     "iopub.status.idle": "2023-11-24T07:46:14.711352Z",
     "shell.execute_reply": "2023-11-24T07:46:14.710557Z",
     "shell.execute_reply.started": "2023-11-24T07:46:14.707408Z"
    },
    "tags": []
   },
   "outputs": [],
   "source": [
    "from __future__ import absolute_import\n",
    "from __future__ import division\n",
    "from __future__ import print_function\n",
    "\n",
    "import json\n",
    "import numpy as np\n",
    "import pandas as pd\n",
    "import time"
   ]
  },
  {
   "cell_type": "code",
   "execution_count": 4,
   "id": "5b622788-d345-48ea-9a52-98c1e4f9c6a6",
   "metadata": {
    "execution": {
     "iopub.execute_input": "2023-11-24T07:46:26.209645Z",
     "iopub.status.busy": "2023-11-24T07:46:26.209248Z",
     "iopub.status.idle": "2023-11-24T07:46:26.214349Z",
     "shell.execute_reply": "2023-11-24T07:46:26.213553Z",
     "shell.execute_reply.started": "2023-11-24T07:46:26.209619Z"
    },
    "tags": []
   },
   "outputs": [],
   "source": [
    "def parse_hn_submissions(path):\n",
    "    with open(path, \"r\") as f:\n",
    "        records = []\n",
    "        for line in f.readlines():\n",
    "            body = json.loads(line)[\"body\"]\n",
    "            records.append({\"data\": body[\"title\"], \"score\": body[\"score\"]})\n",
    "        return pd.DataFrame(records)"
   ]
  },
  {
   "cell_type": "code",
   "execution_count": 5,
   "id": "7b4c1ff9-8184-4068-9b82-76ef9008bb32",
   "metadata": {
    "execution": {
     "iopub.execute_input": "2023-11-24T07:46:34.612972Z",
     "iopub.status.busy": "2023-11-24T07:46:34.612619Z",
     "iopub.status.idle": "2023-11-24T07:46:37.344153Z",
     "shell.execute_reply": "2023-11-24T07:46:37.343317Z",
     "shell.execute_reply.started": "2023-11-24T07:46:34.612948Z"
    },
    "tags": []
   },
   "outputs": [
    {
     "name": "stdout",
     "output_type": "stream",
     "text": [
      "Took 2.7181010246276855 seconds to parse the hackernews submissions\n"
     ]
    },
    {
     "data": {
      "text/html": [
       "<div>\n",
       "<style scoped>\n",
       "    .dataframe tbody tr th:only-of-type {\n",
       "        vertical-align: middle;\n",
       "    }\n",
       "\n",
       "    .dataframe tbody tr th {\n",
       "        vertical-align: top;\n",
       "    }\n",
       "\n",
       "    .dataframe thead th {\n",
       "        text-align: right;\n",
       "    }\n",
       "</style>\n",
       "<table border=\"1\" class=\"dataframe\">\n",
       "  <thead>\n",
       "    <tr style=\"text-align: right;\">\n",
       "      <th></th>\n",
       "      <th>data</th>\n",
       "      <th>score</th>\n",
       "    </tr>\n",
       "  </thead>\n",
       "  <tbody>\n",
       "    <tr>\n",
       "      <th>0</th>\n",
       "      <td>The PeopleWeb | Mark Pincus Blog (March 2005)</td>\n",
       "      <td>3</td>\n",
       "    </tr>\n",
       "    <tr>\n",
       "      <th>1</th>\n",
       "      <td>Computer science and programming are two separ...</td>\n",
       "      <td>1</td>\n",
       "    </tr>\n",
       "    <tr>\n",
       "      <th>2</th>\n",
       "      <td>Don't Go It Alone: Create an Advisory Board</td>\n",
       "      <td>1</td>\n",
       "    </tr>\n",
       "    <tr>\n",
       "      <th>3</th>\n",
       "      <td>Wikileaks Secret Dreams</td>\n",
       "      <td>1</td>\n",
       "    </tr>\n",
       "    <tr>\n",
       "      <th>4</th>\n",
       "      <td>MakeMyTrip.com: Is eCommerce in India Finall...</td>\n",
       "      <td>1</td>\n",
       "    </tr>\n",
       "  </tbody>\n",
       "</table>\n",
       "</div>"
      ],
      "text/plain": [
       "                                                data  score\n",
       "0      The PeopleWeb | Mark Pincus Blog (March 2005)      3\n",
       "1  Computer science and programming are two separ...      1\n",
       "2        Don't Go It Alone: Create an Advisory Board      1\n",
       "3                            Wikileaks Secret Dreams      1\n",
       "4    MakeMyTrip.com: Is eCommerce in India Finall...      1"
      ]
     },
     "execution_count": 5,
     "metadata": {},
     "output_type": "execute_result"
    }
   ],
   "source": [
    "start_time = time.time()\n",
    "\n",
    "files = [\"submission-\" + str(i) + \".json\" for i in range(1, 5)]\n",
    "records = [parse_hn_submissions(file) for file in files]\n",
    "df = pd.concat(records)\n",
    "\n",
    "end_time = time.time()\n",
    "duration = end_time - start_time\n",
    "print(\"Took {} seconds to parse the hackernews submissions\".format(duration))\n",
    "\n",
    "df.head()"
   ]
  },
  {
   "cell_type": "code",
   "execution_count": 6,
   "id": "fe457d63-4eaf-45c4-9ab4-d2aa64992260",
   "metadata": {
    "execution": {
     "iopub.execute_input": "2023-11-24T07:46:46.433671Z",
     "iopub.status.busy": "2023-11-24T07:46:46.433273Z",
     "iopub.status.idle": "2023-11-24T07:46:46.497713Z",
     "shell.execute_reply": "2023-11-24T07:46:46.496856Z",
     "shell.execute_reply.started": "2023-11-24T07:46:46.433644Z"
    },
    "tags": []
   },
   "outputs": [
    {
     "name": "stdout",
     "output_type": "stream",
     "text": [
      "<class 'pandas.core.frame.DataFrame'>\n",
      "Int64Index: 400000 entries, 0 to 99999\n",
      "Data columns (total 2 columns):\n",
      " #   Column  Non-Null Count   Dtype \n",
      "---  ------  --------------   ----- \n",
      " 0   data    400000 non-null  object\n",
      " 1   score   400000 non-null  int64 \n",
      "dtypes: int64(1), object(1)\n",
      "memory usage: 9.2+ MB\n"
     ]
    }
   ],
   "source": [
    "df.info()"
   ]
  },
  {
   "cell_type": "code",
   "execution_count": 7,
   "id": "251fae48-2913-4eaf-b8be-2438faf698f5",
   "metadata": {
    "execution": {
     "iopub.execute_input": "2023-11-24T07:46:55.212921Z",
     "iopub.status.busy": "2023-11-24T07:46:55.212552Z",
     "iopub.status.idle": "2023-11-24T07:46:55.236778Z",
     "shell.execute_reply": "2023-11-24T07:46:55.236027Z",
     "shell.execute_reply.started": "2023-11-24T07:46:55.212895Z"
    },
    "tags": []
   },
   "outputs": [
    {
     "data": {
      "text/html": [
       "<div>\n",
       "<style scoped>\n",
       "    .dataframe tbody tr th:only-of-type {\n",
       "        vertical-align: middle;\n",
       "    }\n",
       "\n",
       "    .dataframe tbody tr th {\n",
       "        vertical-align: top;\n",
       "    }\n",
       "\n",
       "    .dataframe thead th {\n",
       "        text-align: right;\n",
       "    }\n",
       "</style>\n",
       "<table border=\"1\" class=\"dataframe\">\n",
       "  <thead>\n",
       "    <tr style=\"text-align: right;\">\n",
       "      <th></th>\n",
       "      <th>score</th>\n",
       "    </tr>\n",
       "  </thead>\n",
       "  <tbody>\n",
       "    <tr>\n",
       "      <th>count</th>\n",
       "      <td>400000.000000</td>\n",
       "    </tr>\n",
       "    <tr>\n",
       "      <th>mean</th>\n",
       "      <td>9.294667</td>\n",
       "    </tr>\n",
       "    <tr>\n",
       "      <th>std</th>\n",
       "      <td>37.853269</td>\n",
       "    </tr>\n",
       "    <tr>\n",
       "      <th>min</th>\n",
       "      <td>0.000000</td>\n",
       "    </tr>\n",
       "    <tr>\n",
       "      <th>25%</th>\n",
       "      <td>1.000000</td>\n",
       "    </tr>\n",
       "    <tr>\n",
       "      <th>50%</th>\n",
       "      <td>1.000000</td>\n",
       "    </tr>\n",
       "    <tr>\n",
       "      <th>75%</th>\n",
       "      <td>3.000000</td>\n",
       "    </tr>\n",
       "    <tr>\n",
       "      <th>max</th>\n",
       "      <td>2376.000000</td>\n",
       "    </tr>\n",
       "  </tbody>\n",
       "</table>\n",
       "</div>"
      ],
      "text/plain": [
       "               score\n",
       "count  400000.000000\n",
       "mean        9.294667\n",
       "std        37.853269\n",
       "min         0.000000\n",
       "25%         1.000000\n",
       "50%         1.000000\n",
       "75%         3.000000\n",
       "max      2376.000000"
      ]
     },
     "execution_count": 7,
     "metadata": {},
     "output_type": "execute_result"
    }
   ],
   "source": [
    "df.describe()"
   ]
  },
  {
   "cell_type": "code",
   "execution_count": 8,
   "id": "d67a6181-313b-4dc3-8ff9-bb5702d53307",
   "metadata": {
    "execution": {
     "iopub.execute_input": "2023-11-24T07:47:03.844104Z",
     "iopub.status.busy": "2023-11-24T07:47:03.843737Z",
     "iopub.status.idle": "2023-11-24T07:47:03.860064Z",
     "shell.execute_reply": "2023-11-24T07:47:03.859130Z",
     "shell.execute_reply.started": "2023-11-24T07:47:03.844079Z"
    },
    "tags": []
   },
   "outputs": [
    {
     "data": {
      "text/plain": [
       "1.0"
      ]
     },
     "execution_count": 8,
     "metadata": {},
     "output_type": "execute_result"
    }
   ],
   "source": [
    "df[\"score\"].median()"
   ]
  },
  {
   "cell_type": "code",
   "execution_count": 9,
   "id": "333a8e99-794d-4454-a2c2-5c372da078cc",
   "metadata": {
    "execution": {
     "iopub.execute_input": "2023-11-24T07:47:11.630615Z",
     "iopub.status.busy": "2023-11-24T07:47:11.630258Z",
     "iopub.status.idle": "2023-11-24T07:47:11.635454Z",
     "shell.execute_reply": "2023-11-24T07:47:11.634593Z",
     "shell.execute_reply.started": "2023-11-24T07:47:11.630590Z"
    },
    "tags": []
   },
   "outputs": [],
   "source": [
    "df[\"target\"] = df[\"score\"] > 1.0"
   ]
  },
  {
   "cell_type": "code",
   "execution_count": 10,
   "id": "7e9706f8-38ab-4180-8eb3-087462a4d760",
   "metadata": {
    "execution": {
     "iopub.execute_input": "2023-11-24T07:47:19.248515Z",
     "iopub.status.busy": "2023-11-24T07:47:19.248153Z",
     "iopub.status.idle": "2023-11-24T07:47:19.256302Z",
     "shell.execute_reply": "2023-11-24T07:47:19.255533Z",
     "shell.execute_reply.started": "2023-11-24T07:47:19.248491Z"
    },
    "tags": []
   },
   "outputs": [
    {
     "data": {
      "text/html": [
       "<div>\n",
       "<style scoped>\n",
       "    .dataframe tbody tr th:only-of-type {\n",
       "        vertical-align: middle;\n",
       "    }\n",
       "\n",
       "    .dataframe tbody tr th {\n",
       "        vertical-align: top;\n",
       "    }\n",
       "\n",
       "    .dataframe thead th {\n",
       "        text-align: right;\n",
       "    }\n",
       "</style>\n",
       "<table border=\"1\" class=\"dataframe\">\n",
       "  <thead>\n",
       "    <tr style=\"text-align: right;\">\n",
       "      <th></th>\n",
       "      <th>data</th>\n",
       "      <th>score</th>\n",
       "      <th>target</th>\n",
       "    </tr>\n",
       "  </thead>\n",
       "  <tbody>\n",
       "    <tr>\n",
       "      <th>0</th>\n",
       "      <td>The PeopleWeb | Mark Pincus Blog (March 2005)</td>\n",
       "      <td>3</td>\n",
       "      <td>True</td>\n",
       "    </tr>\n",
       "    <tr>\n",
       "      <th>1</th>\n",
       "      <td>Computer science and programming are two separ...</td>\n",
       "      <td>1</td>\n",
       "      <td>False</td>\n",
       "    </tr>\n",
       "    <tr>\n",
       "      <th>2</th>\n",
       "      <td>Don't Go It Alone: Create an Advisory Board</td>\n",
       "      <td>1</td>\n",
       "      <td>False</td>\n",
       "    </tr>\n",
       "    <tr>\n",
       "      <th>3</th>\n",
       "      <td>Wikileaks Secret Dreams</td>\n",
       "      <td>1</td>\n",
       "      <td>False</td>\n",
       "    </tr>\n",
       "    <tr>\n",
       "      <th>4</th>\n",
       "      <td>MakeMyTrip.com: Is eCommerce in India Finall...</td>\n",
       "      <td>1</td>\n",
       "      <td>False</td>\n",
       "    </tr>\n",
       "  </tbody>\n",
       "</table>\n",
       "</div>"
      ],
      "text/plain": [
       "                                                data  score  target\n",
       "0      The PeopleWeb | Mark Pincus Blog (March 2005)      3    True\n",
       "1  Computer science and programming are two separ...      1   False\n",
       "2        Don't Go It Alone: Create an Advisory Board      1   False\n",
       "3                            Wikileaks Secret Dreams      1   False\n",
       "4    MakeMyTrip.com: Is eCommerce in India Finall...      1   False"
      ]
     },
     "execution_count": 10,
     "metadata": {},
     "output_type": "execute_result"
    }
   ],
   "source": [
    "df.head()"
   ]
  },
  {
   "cell_type": "code",
   "execution_count": 11,
   "id": "9dc86efc-361b-4f5d-a316-d9942fe7f689",
   "metadata": {
    "execution": {
     "iopub.execute_input": "2023-11-24T07:47:28.446352Z",
     "iopub.status.busy": "2023-11-24T07:47:28.445970Z",
     "iopub.status.idle": "2023-11-24T07:47:28.758420Z",
     "shell.execute_reply": "2023-11-24T07:47:28.757712Z",
     "shell.execute_reply.started": "2023-11-24T07:47:28.446327Z"
    },
    "tags": []
   },
   "outputs": [],
   "source": [
    "from sklearn.model_selection import train_test_split\n",
    "train, test = train_test_split(df, test_size=0.2)"
   ]
  },
  {
   "cell_type": "code",
   "execution_count": 12,
   "id": "70557829-5f4c-4e48-8a79-7f3dda9d512e",
   "metadata": {
    "execution": {
     "iopub.execute_input": "2023-11-24T07:47:37.779260Z",
     "iopub.status.busy": "2023-11-24T07:47:37.778878Z",
     "iopub.status.idle": "2023-11-24T07:47:37.789189Z",
     "shell.execute_reply": "2023-11-24T07:47:37.788331Z",
     "shell.execute_reply.started": "2023-11-24T07:47:37.779235Z"
    },
    "tags": []
   },
   "outputs": [
    {
     "data": {
      "text/html": [
       "<div>\n",
       "<style scoped>\n",
       "    .dataframe tbody tr th:only-of-type {\n",
       "        vertical-align: middle;\n",
       "    }\n",
       "\n",
       "    .dataframe tbody tr th {\n",
       "        vertical-align: top;\n",
       "    }\n",
       "\n",
       "    .dataframe thead th {\n",
       "        text-align: right;\n",
       "    }\n",
       "</style>\n",
       "<table border=\"1\" class=\"dataframe\">\n",
       "  <thead>\n",
       "    <tr style=\"text-align: right;\">\n",
       "      <th></th>\n",
       "      <th>data</th>\n",
       "      <th>score</th>\n",
       "      <th>target</th>\n",
       "    </tr>\n",
       "  </thead>\n",
       "  <tbody>\n",
       "    <tr>\n",
       "      <th>85111</th>\n",
       "      <td>The Best brooklyn real estate</td>\n",
       "      <td>1</td>\n",
       "      <td>False</td>\n",
       "    </tr>\n",
       "    <tr>\n",
       "      <th>85403</th>\n",
       "      <td>Kim Dotcom Eligible for U.S. Extradition, N.Z....</td>\n",
       "      <td>2</td>\n",
       "      <td>True</td>\n",
       "    </tr>\n",
       "    <tr>\n",
       "      <th>40213</th>\n",
       "      <td>System Engineers are Software Developers</td>\n",
       "      <td>2</td>\n",
       "      <td>True</td>\n",
       "    </tr>\n",
       "    <tr>\n",
       "      <th>75495</th>\n",
       "      <td>How Your Privacy Policy Affects Sign-Ups – Sur...</td>\n",
       "      <td>1</td>\n",
       "      <td>False</td>\n",
       "    </tr>\n",
       "    <tr>\n",
       "      <th>92501</th>\n",
       "      <td>Zuta labs pocket printer</td>\n",
       "      <td>1</td>\n",
       "      <td>False</td>\n",
       "    </tr>\n",
       "    <tr>\n",
       "      <th>...</th>\n",
       "      <td>...</td>\n",
       "      <td>...</td>\n",
       "      <td>...</td>\n",
       "    </tr>\n",
       "    <tr>\n",
       "      <th>5488</th>\n",
       "      <td>Self-Programming</td>\n",
       "      <td>1</td>\n",
       "      <td>False</td>\n",
       "    </tr>\n",
       "    <tr>\n",
       "      <th>51866</th>\n",
       "      <td>I-Swarm Micro Robots are Up and Running</td>\n",
       "      <td>12</td>\n",
       "      <td>True</td>\n",
       "    </tr>\n",
       "    <tr>\n",
       "      <th>98648</th>\n",
       "      <td>Quadcopter Physics by Opera Woman.</td>\n",
       "      <td>1</td>\n",
       "      <td>False</td>\n",
       "    </tr>\n",
       "    <tr>\n",
       "      <th>78528</th>\n",
       "      <td>Home Chip Fab</td>\n",
       "      <td>2</td>\n",
       "      <td>True</td>\n",
       "    </tr>\n",
       "    <tr>\n",
       "      <th>87753</th>\n",
       "      <td>Ask HN: How much does a web agency charge in C...</td>\n",
       "      <td>1</td>\n",
       "      <td>False</td>\n",
       "    </tr>\n",
       "  </tbody>\n",
       "</table>\n",
       "<p>320000 rows × 3 columns</p>\n",
       "</div>"
      ],
      "text/plain": [
       "                                                    data  score  target\n",
       "85111                      The Best brooklyn real estate      1   False\n",
       "85403  Kim Dotcom Eligible for U.S. Extradition, N.Z....      2    True\n",
       "40213           System Engineers are Software Developers      2    True\n",
       "75495  How Your Privacy Policy Affects Sign-Ups – Sur...      1   False\n",
       "92501                           Zuta labs pocket printer      1   False\n",
       "...                                                  ...    ...     ...\n",
       "5488                                    Self-Programming      1   False\n",
       "51866            I-Swarm Micro Robots are Up and Running     12    True\n",
       "98648                 Quadcopter Physics by Opera Woman.      1   False\n",
       "78528                                      Home Chip Fab      2    True\n",
       "87753  Ask HN: How much does a web agency charge in C...      1   False\n",
       "\n",
       "[320000 rows x 3 columns]"
      ]
     },
     "execution_count": 12,
     "metadata": {},
     "output_type": "execute_result"
    }
   ],
   "source": [
    "train"
   ]
  },
  {
   "cell_type": "code",
   "execution_count": 13,
   "id": "5ce048bb-8738-403a-afad-17bae12367bd",
   "metadata": {
    "execution": {
     "iopub.execute_input": "2023-11-24T07:48:27.327396Z",
     "iopub.status.busy": "2023-11-24T07:48:27.327013Z",
     "iopub.status.idle": "2023-11-24T07:48:27.338020Z",
     "shell.execute_reply": "2023-11-24T07:48:27.337240Z",
     "shell.execute_reply.started": "2023-11-24T07:48:27.327370Z"
    },
    "tags": []
   },
   "outputs": [
    {
     "data": {
      "text/html": [
       "<div>\n",
       "<style scoped>\n",
       "    .dataframe tbody tr th:only-of-type {\n",
       "        vertical-align: middle;\n",
       "    }\n",
       "\n",
       "    .dataframe tbody tr th {\n",
       "        vertical-align: top;\n",
       "    }\n",
       "\n",
       "    .dataframe thead th {\n",
       "        text-align: right;\n",
       "    }\n",
       "</style>\n",
       "<table border=\"1\" class=\"dataframe\">\n",
       "  <thead>\n",
       "    <tr style=\"text-align: right;\">\n",
       "      <th></th>\n",
       "      <th>data</th>\n",
       "      <th>score</th>\n",
       "      <th>target</th>\n",
       "    </tr>\n",
       "  </thead>\n",
       "  <tbody>\n",
       "    <tr>\n",
       "      <th>16043</th>\n",
       "      <td>Louis C.K. sees ticket scalping drop over 96% ...</td>\n",
       "      <td>330</td>\n",
       "      <td>True</td>\n",
       "    </tr>\n",
       "    <tr>\n",
       "      <th>33978</th>\n",
       "      <td>Foundations of Computer Science</td>\n",
       "      <td>437</td>\n",
       "      <td>True</td>\n",
       "    </tr>\n",
       "    <tr>\n",
       "      <th>95199</th>\n",
       "      <td>FUNNY VIDEOS Funny Cats Videos Funny Animals F...</td>\n",
       "      <td>1</td>\n",
       "      <td>False</td>\n",
       "    </tr>\n",
       "    <tr>\n",
       "      <th>15017</th>\n",
       "      <td>Cisco shares rise as profits strengthen – FT.com</td>\n",
       "      <td>1</td>\n",
       "      <td>False</td>\n",
       "    </tr>\n",
       "    <tr>\n",
       "      <th>61789</th>\n",
       "      <td>Dashboard Ads Coming to Tumblr</td>\n",
       "      <td>1</td>\n",
       "      <td>False</td>\n",
       "    </tr>\n",
       "    <tr>\n",
       "      <th>...</th>\n",
       "      <td>...</td>\n",
       "      <td>...</td>\n",
       "      <td>...</td>\n",
       "    </tr>\n",
       "    <tr>\n",
       "      <th>56296</th>\n",
       "      <td>Blockchain Company Align Commerce Closes $12.5...</td>\n",
       "      <td>1</td>\n",
       "      <td>False</td>\n",
       "    </tr>\n",
       "    <tr>\n",
       "      <th>1055</th>\n",
       "      <td>Enormous 160mph 'super typhoon' pictured from ISS</td>\n",
       "      <td>1</td>\n",
       "      <td>False</td>\n",
       "    </tr>\n",
       "    <tr>\n",
       "      <th>47497</th>\n",
       "      <td>I Still Don't Believe Wireless Is Safer</td>\n",
       "      <td>1</td>\n",
       "      <td>False</td>\n",
       "    </tr>\n",
       "    <tr>\n",
       "      <th>69119</th>\n",
       "      <td>Sony's debut Android tablet to launch in Septe...</td>\n",
       "      <td>1</td>\n",
       "      <td>False</td>\n",
       "    </tr>\n",
       "    <tr>\n",
       "      <th>76371</th>\n",
       "      <td>Fuse version of HAMMER fs</td>\n",
       "      <td>1</td>\n",
       "      <td>False</td>\n",
       "    </tr>\n",
       "  </tbody>\n",
       "</table>\n",
       "<p>80000 rows × 3 columns</p>\n",
       "</div>"
      ],
      "text/plain": [
       "                                                    data  score  target\n",
       "16043  Louis C.K. sees ticket scalping drop over 96% ...    330    True\n",
       "33978                    Foundations of Computer Science    437    True\n",
       "95199  FUNNY VIDEOS Funny Cats Videos Funny Animals F...      1   False\n",
       "15017   Cisco shares rise as profits strengthen – FT.com      1   False\n",
       "61789                     Dashboard Ads Coming to Tumblr      1   False\n",
       "...                                                  ...    ...     ...\n",
       "56296  Blockchain Company Align Commerce Closes $12.5...      1   False\n",
       "1055   Enormous 160mph 'super typhoon' pictured from ISS      1   False\n",
       "47497            I Still Don't Believe Wireless Is Safer      1   False\n",
       "69119  Sony's debut Android tablet to launch in Septe...      1   False\n",
       "76371                          Fuse version of HAMMER fs      1   False\n",
       "\n",
       "[80000 rows x 3 columns]"
      ]
     },
     "execution_count": 13,
     "metadata": {},
     "output_type": "execute_result"
    }
   ],
   "source": [
    "test"
   ]
  },
  {
   "cell_type": "code",
   "execution_count": 14,
   "id": "03ebc3b4-e882-4a27-8338-6a7825075141",
   "metadata": {
    "execution": {
     "iopub.execute_input": "2023-11-24T07:48:39.008901Z",
     "iopub.status.busy": "2023-11-24T07:48:39.008518Z",
     "iopub.status.idle": "2023-11-24T07:48:44.926787Z",
     "shell.execute_reply": "2023-11-24T07:48:44.925840Z",
     "shell.execute_reply.started": "2023-11-24T07:48:39.008877Z"
    },
    "tags": []
   },
   "outputs": [
    {
     "name": "stdout",
     "output_type": "stream",
     "text": [
      "Accuracy on the training set is 0.584765625\n"
     ]
    }
   ],
   "source": [
    "from sklearn.pipeline import Pipeline\n",
    "from sklearn.feature_extraction.text import CountVectorizer\n",
    "from sklearn.linear_model import SGDClassifier\n",
    "\n",
    "pipeline = Pipeline([\n",
    "    (\"vect\", CountVectorizer()),\n",
    "    (\"sgd\", SGDClassifier(loss=\"hinge\", penalty=\"l2\",\n",
    "                          alpha=0.001,\n",
    "                          max_iter=10000, tol=1e-3,\n",
    "                          warm_start=True))])\n",
    "result = pipeline.fit(train.data, train.target)\n",
    "\n",
    "predicted = result.predict(train.data)\n",
    "print(\"Accuracy on the training set is {}\".format(np.mean(predicted == train.target)))"
   ]
  },
  {
   "cell_type": "code",
   "execution_count": 15,
   "id": "a5441e1b-9417-469f-ab06-a4dbc8570af2",
   "metadata": {
    "execution": {
     "iopub.execute_input": "2023-11-24T07:48:48.976076Z",
     "iopub.status.busy": "2023-11-24T07:48:48.975501Z",
     "iopub.status.idle": "2023-11-24T07:48:49.595869Z",
     "shell.execute_reply": "2023-11-24T07:48:49.594927Z",
     "shell.execute_reply.started": "2023-11-24T07:48:48.976048Z"
    },
    "tags": []
   },
   "outputs": [
    {
     "name": "stdout",
     "output_type": "stream",
     "text": [
      "Accuracy on the test set is 0.58085\n"
     ]
    }
   ],
   "source": [
    "predicted = pipeline.predict(test.data)\n",
    "print(\"Accuracy on the test set is {}\".format(np.mean(predicted == test.target)))"
   ]
  },
  {
   "cell_type": "code",
   "execution_count": 16,
   "id": "e990979a-2ece-4a65-ba23-48acd1e38118",
   "metadata": {
    "execution": {
     "iopub.execute_input": "2023-11-24T07:48:56.418292Z",
     "iopub.status.busy": "2023-11-24T07:48:56.417794Z",
     "iopub.status.idle": "2023-11-24T07:48:56.425858Z",
     "shell.execute_reply": "2023-11-24T07:48:56.424947Z",
     "shell.execute_reply.started": "2023-11-24T07:48:56.418257Z"
    },
    "tags": []
   },
   "outputs": [
    {
     "data": {
      "text/plain": [
       "array([ True, False])"
      ]
     },
     "execution_count": 16,
     "metadata": {},
     "output_type": "execute_result"
    }
   ],
   "source": [
    "pipeline.predict([\"Iconic consoles of the IBM System/360 mainframes, 55 years old today\",\n",
    "                  \"Are Banned Drugs in Your Meat?\"])"
   ]
  },
  {
   "cell_type": "code",
   "execution_count": 17,
   "id": "a40bcef7-3e63-4b8d-b597-f7fcb5576147",
   "metadata": {
    "execution": {
     "iopub.execute_input": "2023-11-24T07:49:09.208396Z",
     "iopub.status.busy": "2023-11-24T07:49:09.208003Z",
     "iopub.status.idle": "2023-11-24T07:49:09.279319Z",
     "shell.execute_reply": "2023-11-24T07:49:09.278692Z",
     "shell.execute_reply.started": "2023-11-24T07:49:09.208371Z"
    },
    "tags": []
   },
   "outputs": [],
   "source": [
    "from sklearn.ensemble import HistGradientBoostingClassifier\n",
    "from sklearn.ensemble import RandomForestClassifier"
   ]
  },
  {
   "cell_type": "code",
   "execution_count": 18,
   "id": "9b076d3a-af9b-4663-813d-45310fa378ed",
   "metadata": {
    "execution": {
     "iopub.execute_input": "2023-11-24T07:49:19.198059Z",
     "iopub.status.busy": "2023-11-24T07:49:19.197663Z",
     "iopub.status.idle": "2023-11-24T07:49:19.201487Z",
     "shell.execute_reply": "2023-11-24T07:49:19.200695Z",
     "shell.execute_reply.started": "2023-11-24T07:49:19.198035Z"
    },
    "tags": []
   },
   "outputs": [],
   "source": [
    "import os\n",
    "import pickle"
   ]
  },
  {
   "cell_type": "code",
   "execution_count": 20,
   "id": "0f6e201b-273b-448b-a945-7ceae436ef4a",
   "metadata": {
    "execution": {
     "iopub.execute_input": "2023-11-24T07:49:48.681514Z",
     "iopub.status.busy": "2023-11-24T07:49:48.681142Z",
     "iopub.status.idle": "2023-11-24T07:49:48.685312Z",
     "shell.execute_reply": "2023-11-24T07:49:48.684457Z",
     "shell.execute_reply.started": "2023-11-24T07:49:48.681492Z"
    },
    "tags": []
   },
   "outputs": [],
   "source": [
    "#tuner.get_results()"
   ]
  },
  {
   "cell_type": "code",
   "execution_count": 21,
   "id": "48fe62fa-ae3d-4803-98a7-b715d19fe88a",
   "metadata": {
    "execution": {
     "iopub.execute_input": "2023-11-24T07:49:57.276368Z",
     "iopub.status.busy": "2023-11-24T07:49:57.275981Z",
     "iopub.status.idle": "2023-11-24T07:49:57.281560Z",
     "shell.execute_reply": "2023-11-24T07:49:57.280729Z",
     "shell.execute_reply.started": "2023-11-24T07:49:57.276343Z"
    },
    "tags": []
   },
   "outputs": [
    {
     "data": {
      "text/plain": [
       "'\\nbest_result_path = os.path.join(all_trials.get_best_logdir(\"mean_accuracy\"), \"model.pkl\")\\nwith open(best_result_path, \"rb\") as f:\\n    pipeline = pickle.load(f)\\nprint(\"Best result was {}\".format(np.mean(pipeline.predict(test.data) == test.target)))\\nprint(\"Best result path is {}\".format(best_result_path))\\n'"
      ]
     },
     "execution_count": 21,
     "metadata": {},
     "output_type": "execute_result"
    }
   ],
   "source": [
    "'''\n",
    "best_result_path = os.path.join(all_trials.get_best_logdir(\"mean_accuracy\"), \"model.pkl\")\n",
    "with open(best_result_path, \"rb\") as f:\n",
    "    pipeline = pickle.load(f)\n",
    "print(\"Best result was {}\".format(np.mean(pipeline.predict(test.data) == test.target)))\n",
    "print(\"Best result path is {}\".format(best_result_path))\n",
    "'''"
   ]
  },
  {
   "cell_type": "code",
   "execution_count": null,
   "id": "d4885695-3370-4e70-ae99-4a5584edcc04",
   "metadata": {},
   "outputs": [],
   "source": []
  }
 ],
 "metadata": {
  "kernelspec": {
   "display_name": "saturn (Python 3)",
   "language": "python",
   "name": "python3"
  },
  "language_info": {
   "codemirror_mode": {
    "name": "ipython",
    "version": 3
   },
   "file_extension": ".py",
   "mimetype": "text/x-python",
   "name": "python",
   "nbconvert_exporter": "python",
   "pygments_lexer": "ipython3",
   "version": "3.9.15"
  }
 },
 "nbformat": 4,
 "nbformat_minor": 5
}
